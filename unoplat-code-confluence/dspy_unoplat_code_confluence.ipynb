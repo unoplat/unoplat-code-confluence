{
 "cells": [
  {
   "cell_type": "code",
   "execution_count": 15,
   "metadata": {},
   "outputs": [],
   "source": [
    "import dspy\n",
    "from data_models.dspy.dspy_o_function_summary import DspyFunctionSummary\n",
    "from data_models.dspy.dspy_unoplat_fs_function_subset import DspyUnoplatFunctionSubset\n",
    "from data_models.dspy.dspy_unoplat_fs_node_subset import DspyUnoplatNodeSubset\n"
   ]
  },
  {
   "cell_type": "code",
   "execution_count": null,
   "metadata": {},
   "outputs": [],
   "source": [
    "\n",
    "together = dspy.Together(model=\"mistralai/Mistral-7B-v0.1\")"
   ]
  },
  {
   "cell_type": "code",
   "execution_count": 19,
   "metadata": {},
   "outputs": [],
   "source": [
    "class CodeConfluenceFunctionSignature(dspy.Signature):\n",
    "    \"\"\"This signature contains class metadata and function metadata with function content and returns descriptive function summary\"\"\"\n",
    "    dspy_class_subset: DspyUnoplatNodeSubset = dspy.InputField(desc=\"This will contain class metadata\")\n",
    "    dspy_function_subset: DspyUnoplatFunctionSubset = dspy.InputField(desc=\"This will contain function metadata with function content\")\n",
    "    dspy_function_summary: DspyFunctionSummary = dspy.OutputField(desc=\"This will contain function summary\")\n",
    "\n"
   ]
  },
  {
   "cell_type": "code",
   "execution_count": 20,
   "metadata": {},
   "outputs": [],
   "source": [
    "class CodeConfluenceFunctionSummaryOptimiserSignature(dspy.Signature):\n",
    "    \"\"\"This signature contains function summary and returns optimised and accurate function summary\"\"\"\n",
    "    dspy_function_input_summary: DspyFunctionSummary = dspy.InputField(desc=\"This will contain function summary\")\n",
    "    dspy_function_output_summary: DspyFunctionSummary = dspy.OutputField(desc=\"This will contain optimised function summary\")\n"
   ]
  },
  {
   "cell_type": "code",
   "execution_count": 21,
   "metadata": {},
   "outputs": [],
   "source": [
    "class CodeConfluenceFunctionModule(dspy.Module):\n",
    "    def __init__(self):\n",
    "        super().__init__()\n",
    "        self.generate_function_summary = dspy.TypedChainOfThought(CodeConfluenceFunctionSignature)\n",
    "        self.optimise_function_summary = dspy.TypedChainOfThought(CodeConfluenceFunctionSummaryOptimiserSignature)\n",
    "\n",
    "    def forward(self, function_metadata, class_metadata):\n",
    "        function_summary = self.generate_function_summary( dspy_class_subset = class_metadata, dspy_function_subset= function_metadata)\n",
    "        optimised_function_summary = self.optimise_function_summary(function_summary)\n",
    "        print(optimised_function_summary.dspy_function_output_summary)\n",
    "        return optimised_function_summary"
   ]
  },
  {
   "cell_type": "code",
   "execution_count": 18,
   "metadata": {},
   "outputs": [
    {
     "name": "stdout",
     "output_type": "stream",
     "text": [
      "node name Order\n",
      "Order\n",
      "{'node_name': 'Order', 'type': 'CLASS', 'file_path': 'src/main/java/com/datastax/examples/order/Order.java', 'module': 'root', 'package': 'com.datastax.examples.order', 'multiple_extend': None, 'fields': [{'type_type': 'OrderPrimaryKey', 'type_key': 'key', 'annotations': [{'name': 'PrimaryKey', 'key_values': [], 'position': {'start_line': 13, 'start_line_position': 4, 'stop_line': 13, 'stop_line_position': 5}}]}, {'type_type': 'Integer', 'type_key': 'productQuantity', 'annotations': [{'name': 'Column', 'key_values': [{'key': '\"product_quantity\"', 'value': '\"product_quantity\"'}], 'position': {'start_line': 16, 'start_line_position': 4, 'stop_line': 16, 'stop_line_position': 30}}, {'name': 'CassandraType', 'key_values': [{'key': 'type', 'value': 'CassandraType.Name.INT'}], 'position': {'start_line': 17, 'start_line_position': 4, 'stop_line': 17, 'stop_line_position': 48}}]}, {'type_type': 'String', 'type_key': 'productName', 'annotations': [{'name': 'Column', 'key_values': [{'key': '\"product_name\"', 'value': '\"product_name\"'}], 'position': {'start_line': 20, 'start_line_position': 4, 'stop_line': 20, 'stop_line_position': 26}}, {'name': 'CassandraType', 'key_values': [{'key': 'type', 'value': 'CassandraType.Name.TEXT'}], 'position': {'start_line': 21, 'start_line_position': 4, 'stop_line': 21, 'stop_line_position': 49}}]}, {'type_type': 'Float', 'type_key': 'productPrice', 'annotations': [{'name': 'CassandraType', 'key_values': [{'key': 'type', 'value': 'CassandraType.Name.DECIMAL'}], 'position': {'start_line': 24, 'start_line_position': 4, 'stop_line': 24, 'stop_line_position': 52}}, {'name': 'Column', 'key_values': [{'key': '\"product_price\"', 'value': '\"product_price\"'}], 'position': {'start_line': 25, 'start_line_position': 4, 'stop_line': 25, 'stop_line_position': 27}}]}, {'type_type': 'Instant', 'type_key': 'addedToOrderTimestamp', 'annotations': [{'name': 'CassandraType', 'key_values': [{'key': 'type', 'value': 'CassandraType.Name.TIMESTAMP'}], 'position': {'start_line': 28, 'start_line_position': 4, 'stop_line': 28, 'stop_line_position': 54}}, {'name': 'Column', 'key_values': [{'key': '\"added_to_order_at\"', 'value': '\"added_to_order_at\"'}], 'position': {'start_line': 29, 'start_line_position': 4, 'stop_line': 29, 'stop_line_position': 31}}]}], 'extend': None, 'imports': [{'source': 'lombok.Data', 'usage_name': []}, {'source': 'org.springframework.data.cassandra.core.mapping', 'usage_name': []}, {'source': 'java.io.Serializable', 'usage_name': []}, {'source': 'java.time.Instant', 'usage_name': []}], 'functions': [], 'position': {'start_line': 11, 'start_line_position': 7, 'stop_line': 32, 'stop_line_position': None}, 'summary': None, 'content': 'class Order implements Serializable {    @PrimaryKey    private OrderPrimaryKey key;    @Column(\"product_quantity\")    @CassandraType(type = CassandraType.Name.INT)    private Integer productQuantity;    @Column(\"product_name\")    @CassandraType(type = CassandraType.Name.TEXT)    private String productName;    @CassandraType(type = CassandraType.Name.DECIMAL)    @Column(\"product_price\")    private Float productPrice;    @CassandraType(type = CassandraType.Name.TIMESTAMP)    @Column(\"added_to_order_at\")    private Instant addedToOrderTimestamp;', 'annotations': [{'name': 'Table', 'key_values': [{'key': 'value', 'value': '\"starter_orders\"'}], 'position': {'start_line': 9, 'start_line_position': None, 'stop_line': 9, 'stop_line_position': 31}}, {'name': 'Data', 'key_values': [], 'position': {'start_line': 10, 'start_line_position': None, 'stop_line': 10, 'stop_line_position': 1}}]}\n",
      "node subset {'node_name': 'Order', 'multiple_extend': None, 'fields': [{'type_type': 'OrderPrimaryKey', 'type_key': 'key', 'annotations': [{'name': 'PrimaryKey', 'key_values': [], 'position': {'start_line': 13, 'start_line_position': 4, 'stop_line': 13, 'stop_line_position': 5}}]}, {'type_type': 'Integer', 'type_key': 'productQuantity', 'annotations': [{'name': 'Column', 'key_values': [{'key': '\"product_quantity\"', 'value': '\"product_quantity\"'}], 'position': {'start_line': 16, 'start_line_position': 4, 'stop_line': 16, 'stop_line_position': 30}}, {'name': 'CassandraType', 'key_values': [{'key': 'type', 'value': 'CassandraType.Name.INT'}], 'position': {'start_line': 17, 'start_line_position': 4, 'stop_line': 17, 'stop_line_position': 48}}]}, {'type_type': 'String', 'type_key': 'productName', 'annotations': [{'name': 'Column', 'key_values': [{'key': '\"product_name\"', 'value': '\"product_name\"'}], 'position': {'start_line': 20, 'start_line_position': 4, 'stop_line': 20, 'stop_line_position': 26}}, {'name': 'CassandraType', 'key_values': [{'key': 'type', 'value': 'CassandraType.Name.TEXT'}], 'position': {'start_line': 21, 'start_line_position': 4, 'stop_line': 21, 'stop_line_position': 49}}]}, {'type_type': 'Float', 'type_key': 'productPrice', 'annotations': [{'name': 'CassandraType', 'key_values': [{'key': 'type', 'value': 'CassandraType.Name.DECIMAL'}], 'position': {'start_line': 24, 'start_line_position': 4, 'stop_line': 24, 'stop_line_position': 52}}, {'name': 'Column', 'key_values': [{'key': '\"product_price\"', 'value': '\"product_price\"'}], 'position': {'start_line': 25, 'start_line_position': 4, 'stop_line': 25, 'stop_line_position': 27}}]}, {'type_type': 'Instant', 'type_key': 'addedToOrderTimestamp', 'annotations': [{'name': 'CassandraType', 'key_values': [{'key': 'type', 'value': 'CassandraType.Name.TIMESTAMP'}], 'position': {'start_line': 28, 'start_line_position': 4, 'stop_line': 28, 'stop_line_position': 54}}, {'name': 'Column', 'key_values': [{'key': '\"added_to_order_at\"', 'value': '\"added_to_order_at\"'}], 'position': {'start_line': 29, 'start_line_position': 4, 'stop_line': 29, 'stop_line_position': 31}}]}], 'extend': None, 'imports': [{'source': 'lombok.Data', 'usage_name': []}, {'source': 'org.springframework.data.cassandra.core.mapping', 'usage_name': []}, {'source': 'java.io.Serializable', 'usage_name': []}, {'source': 'java.time.Instant', 'usage_name': []}], 'annotations': [{'name': None, 'key_values': []}, {'name': None, 'key_values': []}]}\n",
      "[DspyUnoplatNodeSubset(node_name='Order', multiple_extend=None, fields=[ClassFieldModel(type_type='OrderPrimaryKey', type_key='key', annotations=[Annotation(name='PrimaryKey', key_values=[], position=Position(start_line=13, start_line_position=4, stop_line=13, stop_line_position=5))]), ClassFieldModel(type_type='Integer', type_key='productQuantity', annotations=[Annotation(name='Column', key_values=[ChapiUnoplatAnnotationKeyVal(key='\"product_quantity\"', value='\"product_quantity\"')], position=Position(start_line=16, start_line_position=4, stop_line=16, stop_line_position=30)), Annotation(name='CassandraType', key_values=[ChapiUnoplatAnnotationKeyVal(key='type', value='CassandraType.Name.INT')], position=Position(start_line=17, start_line_position=4, stop_line=17, stop_line_position=48))]), ClassFieldModel(type_type='String', type_key='productName', annotations=[Annotation(name='Column', key_values=[ChapiUnoplatAnnotationKeyVal(key='\"product_name\"', value='\"product_name\"')], position=Position(start_line=20, start_line_position=4, stop_line=20, stop_line_position=26)), Annotation(name='CassandraType', key_values=[ChapiUnoplatAnnotationKeyVal(key='type', value='CassandraType.Name.TEXT')], position=Position(start_line=21, start_line_position=4, stop_line=21, stop_line_position=49))]), ClassFieldModel(type_type='Float', type_key='productPrice', annotations=[Annotation(name='CassandraType', key_values=[ChapiUnoplatAnnotationKeyVal(key='type', value='CassandraType.Name.DECIMAL')], position=Position(start_line=24, start_line_position=4, stop_line=24, stop_line_position=52)), Annotation(name='Column', key_values=[ChapiUnoplatAnnotationKeyVal(key='\"product_price\"', value='\"product_price\"')], position=Position(start_line=25, start_line_position=4, stop_line=25, stop_line_position=27))]), ClassFieldModel(type_type='Instant', type_key='addedToOrderTimestamp', annotations=[Annotation(name='CassandraType', key_values=[ChapiUnoplatAnnotationKeyVal(key='type', value='CassandraType.Name.TIMESTAMP')], position=Position(start_line=28, start_line_position=4, stop_line=28, stop_line_position=54)), Annotation(name='Column', key_values=[ChapiUnoplatAnnotationKeyVal(key='\"added_to_order_at\"', value='\"added_to_order_at\"')], position=Position(start_line=29, start_line_position=4, stop_line=29, stop_line_position=31))])], extend=None, imports=[Import(source='lombok.Data', usage_name=[]), Import(source='org.springframework.data.cassandra.core.mapping', usage_name=[]), Import(source='java.io.Serializable', usage_name=[]), Import(source='java.time.Instant', usage_name=[])], annotations=[DspyUnoplatAnnotationSubset(name=None, key_values=[]), DspyUnoplatAnnotationSubset(name=None, key_values=[])])]\n",
      "[]\n"
     ]
    }
   ],
   "source": [
    "import json\n",
    "from data_models.chapi_unoplat_node import Node\n",
    "from data_models.dspy.dspy_unoplat_fs_annotation_subset import DspyUnoplatAnnotationSubset\n",
    "from data_models.dspy.dspy_unoplat_fs_function_call_subset import DspyUnoplatFunctionCallSubset\n",
    "from data_models.dspy.dspy_unoplat_fs_function_subset import DspyUnoplatFunctionSubset\n",
    "from data_models.dspy.dspy_unoplat_fs_node_subset import DspyUnoplatNodeSubset\n",
    "\n",
    "try:\n",
    "    with open('springstarterjava1_codes.json', 'r') as file:\n",
    "        springstarterjava1_codes = json.load(file)\n",
    "except FileNotFoundError:\n",
    "    print(\"Error: File 'springstarterjava1_codes.json' not found.\")\n",
    "    springstarterjava1_codes = []\n",
    "except json.JSONDecodeError:\n",
    "    print(\"Error: File 'springstarterjava1_codes.json' contains invalid JSON.\")\n",
    "    springstarterjava1_codes = []\n",
    "\n",
    "node_subsets = []\n",
    "\n",
    "function_subsets = []\n",
    "\n",
    "for item in springstarterjava1_codes:\n",
    "    try:\n",
    "        node = Node(**item)\n",
    "        print(\"node name\",node.node_name)\n",
    "        node_subset = DspyUnoplatNodeSubset(\n",
    "            NodeName=node.node_name,\n",
    "            Imports=node.imports,\n",
    "            Extend=node.extend,\n",
    "            MultipleExtend=node.multiple_extend,\n",
    "            Fields=node.fields,\n",
    "            Annotations=[DspyUnoplatAnnotationSubset(**annotation.model_dump()) for annotation in node.annotations]\n",
    "        )\n",
    "        \n",
    "        \n",
    "        for func in node.functions:\n",
    "            function_subset = DspyUnoplatFunctionSubset(\n",
    "                Name=func.name,\n",
    "                ReturnType=func.return_type,\n",
    "                Annotations=func.annotations,\n",
    "                LocalVariables=func.local_variables,\n",
    "                Content=func.content,\n",
    "                FunctionCalls=[DspyUnoplatFunctionCallSubset(NodeName=call.node_name, FunctionName=call.function_name, Parameters=call.parameters) for call in func.function_calls]\n",
    "            )\n",
    "            \n",
    "\n",
    "\n",
    "        function_subsets.append(function_subset)\n",
    "    except AttributeError as e:\n",
    "        print(f\"Error processing node data: {e}\")\n",
    "\n",
    "# Optionally, print or process the subsets\n",
    "print(node_subsets)\n",
    "print(function_subsets)"
   ]
  },
  {
   "cell_type": "code",
   "execution_count": null,
   "metadata": {},
   "outputs": [],
   "source": []
  },
  {
   "cell_type": "code",
   "execution_count": null,
   "metadata": {},
   "outputs": [],
   "source": []
  },
  {
   "cell_type": "code",
   "execution_count": null,
   "metadata": {},
   "outputs": [],
   "source": []
  },
  {
   "cell_type": "code",
   "execution_count": 6,
   "metadata": {},
   "outputs": [
    {
     "data": {
      "text/plain": [
       "DspyUnoplatNodeSubset(node_name=None, multiple_extend=None, fields=[], extend=None, imports=[], annotations=[])"
      ]
     },
     "execution_count": 6,
     "metadata": {},
     "output_type": "execute_result"
    }
   ],
   "source": [
    "node_subsets[0]"
   ]
  },
  {
   "cell_type": "code",
   "execution_count": 1,
   "metadata": {},
   "outputs": [
    {
     "name": "stderr",
     "output_type": "stream",
     "text": [
      "/Users/jayghiya/Documents/unoplat/unoplat-codebase-understanding/unoplat-code-confluence/.venv/lib/python3.12/site-packages/tqdm/auto.py:21: TqdmWarning: IProgress not found. Please update jupyter and ipywidgets. See https://ipywidgets.readthedocs.io/en/stable/user_install.html\n",
      "  from .autonotebook import tqdm as notebook_tqdm\n"
     ]
    },
    {
     "ename": "ModuleNotFoundError",
     "evalue": "No module named 'data_models.chapi_unoplat_function_summary'",
     "output_type": "error",
     "traceback": [
      "\u001b[0;31m---------------------------------------------------------------------------\u001b[0m",
      "\u001b[0;31mModuleNotFoundError\u001b[0m                       Traceback (most recent call last)",
      "Cell \u001b[0;32mIn[1], line 4\u001b[0m\n\u001b[1;32m      2\u001b[0m \u001b[38;5;28;01mimport\u001b[39;00m \u001b[38;5;21;01mos\u001b[39;00m\n\u001b[1;32m      3\u001b[0m \u001b[38;5;28;01mfrom\u001b[39;00m \u001b[38;5;21;01mdata_models\u001b[39;00m\u001b[38;5;21;01m.\u001b[39;00m\u001b[38;5;21;01mchapi_unoplat_function\u001b[39;00m \u001b[38;5;28;01mimport\u001b[39;00m Function\n\u001b[0;32m----> 4\u001b[0m \u001b[38;5;28;01mfrom\u001b[39;00m \u001b[38;5;21;01mdata_models\u001b[39;00m\u001b[38;5;21;01m.\u001b[39;00m\u001b[38;5;21;01mchapi_unoplat_function_summary\u001b[39;00m \u001b[38;5;28;01mimport\u001b[39;00m FunctionSummary\n\u001b[1;32m      5\u001b[0m \u001b[38;5;28;01mfrom\u001b[39;00m \u001b[38;5;21;01mloader\u001b[39;00m \u001b[38;5;28;01mimport\u001b[39;00m JsonLoader\n\u001b[1;32m      6\u001b[0m \u001b[38;5;28;01mfrom\u001b[39;00m \u001b[38;5;21;01mloader\u001b[39;00m \u001b[38;5;28;01mimport\u001b[39;00m JsonParser\n",
      "\u001b[0;31mModuleNotFoundError\u001b[0m: No module named 'data_models.chapi_unoplat_function_summary'"
     ]
    }
   ],
   "source": [
    "import dspy\n",
    "import os\n",
    "from data_models.chapi_unoplat_function import Function\n",
    "from data_models.chapi_unoplat_function_summary import FunctionSummary\n",
    "from loader import JsonLoader\n",
    "from loader import JsonParser\n",
    "\n",
    "ollama_mistral = dspy.OllamaLocal(model='mistral:7b-instruct-fp16')\n",
    "dspy.configure(lm=ollama_mistral)\n"
   ]
  },
  {
   "cell_type": "code",
   "execution_count": null,
   "metadata": {},
   "outputs": [],
   "source": []
  },
  {
   "cell_type": "code",
   "execution_count": 8,
   "metadata": {},
   "outputs": [],
   "source": [
    "class UnoplatFunctionSummary(dspy.Signature):\n",
    "    \"\"\"Generate accurate Summary only based on user metadata about function\"\"\"\n",
    "    \n",
    "    input: Function = dspy.InputField(desc=\"will contain all relevant function metadata\")\n",
    "    output: FunctionSummary = dspy.OutputField(desc=\"summarisation of function\")\n"
   ]
  },
  {
   "cell_type": "code",
   "execution_count": 10,
   "metadata": {},
   "outputs": [],
   "source": [
    "from typing import List\n",
    "from data_models.chapi_unoplat_class_summary import ClassSummary\n",
    "from data_models.chapi_unoplat_node import Node\n",
    "\n",
    "\n",
    "class UnoplatClassSummary(dspy.Signature):\n",
    "    \"\"\"Generate accurate summary only based on List of Function summaries and class metadata\"\"\"\n",
    "    input: List[FunctionSummary] = dspy.InputField(desc=\"This contains list of function summaries that needs to be understood in a step by step fashion.\")\n",
    "    context: Node = dspy.InputField(desc=\"This will contain class metadata.\" )\n",
    "    output: ClassSummary = dspy.OutputField(desc=\"This should contain class summary based on user shared metadata.\")"
   ]
  },
  {
   "cell_type": "code",
   "execution_count": 11,
   "metadata": {},
   "outputs": [],
   "source": [
    "from typing import List\n",
    "\n",
    "class UnoplatModuleFunctionSummary(dspy.Module):\n",
    "    \"\"\"Generate summary for all functions of a class\"\"\"\n",
    "    def __init__(self):\n",
    "        super().__init__()\n",
    "        self.generate_function_summary = dspy.TypedChainOfThought(UnoplatFunctionSummary)\n",
    "        \n",
    "\n",
    "    def forward(self, list_function = None) -> str:\n",
    "        function_summaries_context = []\n",
    "        \n",
    "        for item in list_function:\n",
    "            function_summaries_context.append(self.generate_function_summary(item))\n",
    "\n",
    "        \n",
    "        return function_summaries_context    \n",
    "\n",
    "\n",
    "            \n",
    "        "
   ]
  },
  {
   "cell_type": "code",
   "execution_count": 13,
   "metadata": {},
   "outputs": [
    {
     "ename": "TypeError",
     "evalue": "object of type 'NoneType' has no len()",
     "output_type": "error",
     "traceback": [
      "\u001b[0;31m---------------------------------------------------------------------------\u001b[0m",
      "\u001b[0;31mTypeError\u001b[0m                                 Traceback (most recent call last)",
      "Cell \u001b[0;32mIn[13], line 6\u001b[0m\n\u001b[1;32m      3\u001b[0m teleprompter \u001b[38;5;241m=\u001b[39m BootstrapFewShot()\n\u001b[1;32m      5\u001b[0m \u001b[38;5;66;03m# Compile the program without a training dataset\u001b[39;00m\n\u001b[0;32m----> 6\u001b[0m compiled_summary \u001b[38;5;241m=\u001b[39m \u001b[43mteleprompter\u001b[49m\u001b[38;5;241;43m.\u001b[39;49m\u001b[43mcompile\u001b[49m\u001b[43m(\u001b[49m\u001b[43mUnoplatModuleClassSummary\u001b[49m\u001b[43m(\u001b[49m\u001b[43m)\u001b[49m\u001b[43m,\u001b[49m\u001b[43mtrainset\u001b[49m\u001b[38;5;241;43m=\u001b[39;49m\u001b[38;5;28;43;01mNone\u001b[39;49;00m\u001b[43m)\u001b[49m\n\u001b[1;32m      8\u001b[0m \u001b[38;5;66;03m#cot_predictor = dspy.TypedChainOfThought(UnoplatFunctionSummary)\u001b[39;00m\n",
      "File \u001b[0;32m~/Documents/unoplat/unoplat-codebase-understanding/unoplat-code-confluence/.venv/lib/python3.12/site-packages/dspy/teleprompt/bootstrap.py:59\u001b[0m, in \u001b[0;36mBootstrapFewShot.compile\u001b[0;34m(self, student, teacher, trainset, valset)\u001b[0m\n\u001b[1;32m     56\u001b[0m \u001b[38;5;28mself\u001b[39m\u001b[38;5;241m.\u001b[39mtrainset \u001b[38;5;241m=\u001b[39m trainset\n\u001b[1;32m     57\u001b[0m \u001b[38;5;28mself\u001b[39m\u001b[38;5;241m.\u001b[39mvalset \u001b[38;5;241m=\u001b[39m valset\n\u001b[0;32m---> 59\u001b[0m \u001b[38;5;28;43mself\u001b[39;49m\u001b[38;5;241;43m.\u001b[39;49m\u001b[43m_prepare_student_and_teacher\u001b[49m\u001b[43m(\u001b[49m\u001b[43mstudent\u001b[49m\u001b[43m,\u001b[49m\u001b[43m \u001b[49m\u001b[43mteacher\u001b[49m\u001b[43m)\u001b[49m\n\u001b[1;32m     60\u001b[0m \u001b[38;5;28mself\u001b[39m\u001b[38;5;241m.\u001b[39m_prepare_predictor_mappings()\n\u001b[1;32m     61\u001b[0m \u001b[38;5;28mself\u001b[39m\u001b[38;5;241m.\u001b[39m_bootstrap()\n",
      "File \u001b[0;32m~/Documents/unoplat/unoplat-codebase-understanding/unoplat-code-confluence/.venv/lib/python3.12/site-packages/dspy/teleprompt/bootstrap.py:80\u001b[0m, in \u001b[0;36mBootstrapFewShot._prepare_student_and_teacher\u001b[0;34m(self, student, teacher)\u001b[0m\n\u001b[1;32m     78\u001b[0m \u001b[38;5;28;01mif\u001b[39;00m \u001b[38;5;28mself\u001b[39m\u001b[38;5;241m.\u001b[39mmax_labeled_demos \u001b[38;5;129;01mand\u001b[39;00m \u001b[38;5;28mgetattr\u001b[39m(\u001b[38;5;28mself\u001b[39m\u001b[38;5;241m.\u001b[39mteacher, \u001b[38;5;124m\"\u001b[39m\u001b[38;5;124m_compiled\u001b[39m\u001b[38;5;124m\"\u001b[39m, \u001b[38;5;28;01mFalse\u001b[39;00m) \u001b[38;5;129;01mis\u001b[39;00m \u001b[38;5;28;01mFalse\u001b[39;00m:\n\u001b[1;32m     79\u001b[0m     teleprompter \u001b[38;5;241m=\u001b[39m LabeledFewShot(k\u001b[38;5;241m=\u001b[39m\u001b[38;5;28mself\u001b[39m\u001b[38;5;241m.\u001b[39mmax_labeled_demos)\n\u001b[0;32m---> 80\u001b[0m     \u001b[38;5;28mself\u001b[39m\u001b[38;5;241m.\u001b[39mteacher \u001b[38;5;241m=\u001b[39m \u001b[43mteleprompter\u001b[49m\u001b[38;5;241;43m.\u001b[39;49m\u001b[43mcompile\u001b[49m\u001b[43m(\u001b[49m\u001b[38;5;28;43mself\u001b[39;49m\u001b[38;5;241;43m.\u001b[39;49m\u001b[43mteacher\u001b[49m\u001b[38;5;241;43m.\u001b[39;49m\u001b[43mreset_copy\u001b[49m\u001b[43m(\u001b[49m\u001b[43m)\u001b[49m\u001b[43m,\u001b[49m\u001b[43m \u001b[49m\u001b[43mtrainset\u001b[49m\u001b[38;5;241;43m=\u001b[39;49m\u001b[38;5;28;43mself\u001b[39;49m\u001b[38;5;241;43m.\u001b[39;49m\u001b[43mtrainset\u001b[49m\u001b[43m)\u001b[49m\n",
      "File \u001b[0;32m~/Documents/unoplat/unoplat-codebase-understanding/unoplat-code-confluence/.venv/lib/python3.12/site-packages/dspy/teleprompt/vanilla.py:14\u001b[0m, in \u001b[0;36mLabeledFewShot.compile\u001b[0;34m(self, student, trainset, sample)\u001b[0m\n\u001b[1;32m     11\u001b[0m \u001b[38;5;28mself\u001b[39m\u001b[38;5;241m.\u001b[39mstudent \u001b[38;5;241m=\u001b[39m student\u001b[38;5;241m.\u001b[39mreset_copy()\n\u001b[1;32m     12\u001b[0m \u001b[38;5;28mself\u001b[39m\u001b[38;5;241m.\u001b[39mtrainset \u001b[38;5;241m=\u001b[39m trainset\n\u001b[0;32m---> 14\u001b[0m \u001b[38;5;28;01mif\u001b[39;00m \u001b[38;5;28;43mlen\u001b[39;49m\u001b[43m(\u001b[49m\u001b[38;5;28;43mself\u001b[39;49m\u001b[38;5;241;43m.\u001b[39;49m\u001b[43mtrainset\u001b[49m\u001b[43m)\u001b[49m \u001b[38;5;241m==\u001b[39m \u001b[38;5;241m0\u001b[39m:\n\u001b[1;32m     15\u001b[0m     \u001b[38;5;28;01mreturn\u001b[39;00m \u001b[38;5;28mself\u001b[39m\u001b[38;5;241m.\u001b[39mstudent\n\u001b[1;32m     17\u001b[0m rng \u001b[38;5;241m=\u001b[39m random\u001b[38;5;241m.\u001b[39mRandom(\u001b[38;5;241m0\u001b[39m)\n",
      "\u001b[0;31mTypeError\u001b[0m: object of type 'NoneType' has no len()"
     ]
    }
   ],
   "source": [
    "from dspy.teleprompt import BootstrapFewShot\n",
    "# Set up the teleprompter\n",
    "teleprompter = BootstrapFewShot()\n",
    "\n",
    "# Compile the program without a training dataset\n",
    "compiled_summary = teleprompter.compile(UnoplatModuleClassSummary(),trainset=None)\n",
    "\n",
    "#cot_predictor = dspy.TypedChainOfThought(UnoplatFunctionSummary)"
   ]
  },
  {
   "cell_type": "code",
   "execution_count": 4,
   "metadata": {},
   "outputs": [
    {
     "name": "stderr",
     "output_type": "stream",
     "text": [
      "\u001b[32m2024-06-12 11:02:15.265\u001b[0m | \u001b[1mINFO    \u001b[0m | \u001b[36mloader.json_loader\u001b[0m:\u001b[36mload_json_from_file\u001b[0m:\u001b[36m28\u001b[0m - \u001b[1mJSON data successfully loaded from springstarterjava1_codes.json\u001b[0m\n"
     ]
    },
    {
     "name": "stdout",
     "output_type": "stream",
     "text": [
      "<built-in method keys of dict object at 0x1761ce180>\n",
      "name='root' return_type='ModelAndView' function_calls=[] annotations=[Annotation(name='RequestMapping', position=Position(start_line=17, start_line_position=4, stop_line=17, stop_line_position=59))] position=Position(start_line=18, start_line_position=11, stop_line=20, stop_line_position=4) local_variables=[FieldModel(type_type='ModelAndView', type_value='return', type_key=None)] body_hash=763749358 content='ModelAndView root() {        return new ModelAndView(\"redirect:/swagger-ui/\");    '\n",
      "\n",
      "\n",
      "\n",
      "Generate Summary in json based on FunctionSummary\n",
      "\n",
      "---\n",
      "\n",
      "Follow the following format.\n",
      "\n",
      "Input: will contain all relevant function metadata\n",
      "\n",
      "Past Error in Output: An error to avoid in the future\n",
      "\n",
      "Reasoning: Let's think step by step in order to ${produce the output}. We ...\n",
      "\n",
      "Output:\n",
      "summarisation of function. Respond with a single JSON object. \n",
      "You MUST use this format: {\n",
      "\"Summary\": null,\n",
      "\"ImplementationSummary\": null\n",
      "}\n",
      "JSON Schema: {\"properties\": {\"Summary\": {\"anyOf\": [{\"type\": \"string\"}, {\"type\": \"null\"}], \"default\": null, \"description\": \"This should include high level summary of what function does based on function content and function metadata.\", \"title\": \"Summary\"}, \"ImplementationSummary\": {\"anyOf\": [{\"type\": \"string\"}, {\"type\": \"null\"}], \"default\": null, \"description\": \"This should include implementation details of the function in a step by step fashion with precise functional arguments and fields used to perform the operation. use all metadata shared for the function to answer .\", \"title\": \"Implementationsummary\"}}, \"title\": \"FunctionSummary\", \"type\": \"object\"}\n",
      "\n",
      "---\n",
      "\n",
      "Input: {\"name\":\"root\",\"return_type\":\"ModelAndView\",\"function_calls\":[],\"annotations\":[{\"name\":\"RequestMapping\",\"position\":{\"start_line\":17,\"start_line_position\":4,\"stop_line\":17,\"stop_line_position\":59}}],\"position\":{\"start_line\":18,\"start_line_position\":11,\"stop_line\":20,\"stop_line_position\":4},\"local_variables\":[{\"type_type\":\"ModelAndView\",\"type_value\":\"return\",\"type_key\":null}],\"body_hash\":763749358,\"content\":\"ModelAndView root() {        return new ModelAndView(\\\"redirect:/swagger-ui/\\\");    \"}\n",
      "\n",
      "Past Error in Output: JSONDecodeError(\"Unrecognized escape sequence when decoding 'string'\")\n",
      "\n",
      "Reasoning: Let's think step by step in order to\n",
      "1. Parse the input JSON string into a Python dictionary using the `json.loads()` function.\n",
      "2. Extract the relevant metadata from the dictionary, including the function name, return type, function calls, annotations, position, local variables, body hash, and content.\n",
      "3. Generate a summary of the function based on its name and return type. For example, \"root() returns a ModelAndView object.\"\n",
      "4. Generate an implementation summary of the function by parsing the content string and extracting the relevant information. This may involve using regular expressions or other string manipulation techniques to identify the functional arguments and fields used in the operation.\n",
      "5. Combine the summary and implementation summary into a single JSON\n",
      "\n",
      "Output:\u001b[32m {\n",
      "\"Summary\": \"root() returns a ModelAndView object.\",\n",
      "\"ImplementationSummary\": \"The function takes no arguments and returns a new ModelAndView object with a redirect URL of /swagger-ui/\"\n",
      "}\u001b[0m\n",
      "\n",
      "\n",
      "\n"
     ]
    },
    {
     "data": {
      "text/plain": [
       "'\\n\\n\\nGenerate Summary in json based on FunctionSummary\\n\\n---\\n\\nFollow the following format.\\n\\nInput: will contain all relevant function metadata\\n\\nPast Error in Output: An error to avoid in the future\\n\\nReasoning: Let\\'s think step by step in order to ${produce the output}. We ...\\n\\nOutput:\\nsummarisation of function. Respond with a single JSON object. \\nYou MUST use this format: {\\n\"Summary\": null,\\n\"ImplementationSummary\": null\\n}\\nJSON Schema: {\"properties\": {\"Summary\": {\"anyOf\": [{\"type\": \"string\"}, {\"type\": \"null\"}], \"default\": null, \"description\": \"This should include high level summary of what function does based on function content and function metadata.\", \"title\": \"Summary\"}, \"ImplementationSummary\": {\"anyOf\": [{\"type\": \"string\"}, {\"type\": \"null\"}], \"default\": null, \"description\": \"This should include implementation details of the function in a step by step fashion with precise functional arguments and fields used to perform the operation. use all metadata shared for the function to answer .\", \"title\": \"Implementationsummary\"}}, \"title\": \"FunctionSummary\", \"type\": \"object\"}\\n\\n---\\n\\nInput: {\"name\":\"root\",\"return_type\":\"ModelAndView\",\"function_calls\":[],\"annotations\":[{\"name\":\"RequestMapping\",\"position\":{\"start_line\":17,\"start_line_position\":4,\"stop_line\":17,\"stop_line_position\":59}}],\"position\":{\"start_line\":18,\"start_line_position\":11,\"stop_line\":20,\"stop_line_position\":4},\"local_variables\":[{\"type_type\":\"ModelAndView\",\"type_value\":\"return\",\"type_key\":null}],\"body_hash\":763749358,\"content\":\"ModelAndView root() {        return new ModelAndView(\\\\\"redirect:/swagger-ui/\\\\\");    \"}\\n\\nPast Error in Output: JSONDecodeError(\"Unrecognized escape sequence when decoding \\'string\\'\")\\n\\nReasoning: Let\\'s think step by step in order to\\n1. Parse the input JSON string into a Python dictionary using the `json.loads()` function.\\n2. Extract the relevant metadata from the dictionary, including the function name, return type, function calls, annotations, position, local variables, body hash, and content.\\n3. Generate a summary of the function based on its name and return type. For example, \"root() returns a ModelAndView object.\"\\n4. Generate an implementation summary of the function by parsing the content string and extracting the relevant information. This may involve using regular expressions or other string manipulation techniques to identify the functional arguments and fields used in the operation.\\n5. Combine the summary and implementation summary into a single JSON\\n\\nOutput:\\x1b[32m {\\n\"Summary\": \"root() returns a ModelAndView object.\",\\n\"ImplementationSummary\": \"The function takes no arguments and returns a new ModelAndView object with a redirect URL of /swagger-ui/\"\\n}\\x1b[0m\\n\\n\\n'"
      ]
     },
     "execution_count": 4,
     "metadata": {},
     "output_type": "execute_result"
    }
   ],
   "source": [
    "iload_json = JsonLoader()\n",
    "\n",
    "iparse_json = JsonParser()\n",
    "\n",
    "\n",
    "meadata_classes = iload_json.load_json_from_file(\"springstarterjava1_codes.json\")\n",
    "\n",
    "package_dict = iparse_json.parse_json_to_nodes(meadata_classes,None)\n",
    "\n",
    "print(package_dict.keys)\n",
    "\n",
    "function: Function = package_dict['com.datastax.examples.order'][2].functions[0]\n",
    "print(function)\n",
    "\n",
    "prediction = cot_predictor(input=function,options={\"format\": \"json\"})\n",
    "\n",
    "ollama_mistral.inspect_history(n=1)"
   ]
  },
  {
   "cell_type": "code",
   "execution_count": 5,
   "metadata": {},
   "outputs": [
    {
     "name": "stdout",
     "output_type": "stream",
     "text": [
      "Prediction(\n",
      "    reasoning='1. Parse the input JSON string into a Python dictionary using the `json.loads()` function.\\n2. Extract the relevant metadata from the dictionary, including the function name, return type, function calls, annotations, position, local variables, body hash, and content.\\n3. Generate a summary of the function based on its name and return type. For example, \"root() returns a ModelAndView object.\"\\n4. Generate an implementation summary of the function by parsing the content string and extracting the relevant information. This may involve using regular expressions or other string manipulation techniques to identify the functional arguments and fields used in the operation.\\n5. Combine the summary and implementation summary into a single JSON',\n",
      "    output=FunctionSummary(summary='root() returns a ModelAndView object.', implementation_summary='The function takes no arguments and returns a new ModelAndView object with a redirect URL of /swagger-ui/')\n",
      ")\n"
     ]
    }
   ],
   "source": [
    "print(prediction)"
   ]
  },
  {
   "cell_type": "code",
   "execution_count": null,
   "metadata": {},
   "outputs": [],
   "source": []
  }
 ],
 "metadata": {
  "kernelspec": {
   "display_name": ".venv",
   "language": "python",
   "name": "python3"
  },
  "language_info": {
   "codemirror_mode": {
    "name": "ipython",
    "version": 3
   },
   "file_extension": ".py",
   "mimetype": "text/x-python",
   "name": "python",
   "nbconvert_exporter": "python",
   "pygments_lexer": "ipython3",
   "version": "3.12.3"
  }
 },
 "nbformat": 4,
 "nbformat_minor": 2
}
