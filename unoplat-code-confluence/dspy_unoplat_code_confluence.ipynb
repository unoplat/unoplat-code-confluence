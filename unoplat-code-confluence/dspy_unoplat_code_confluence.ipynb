{
 "cells": [
  {
   "cell_type": "code",
   "execution_count": 1,
   "metadata": {},
   "outputs": [
    {
     "name": "stderr",
     "output_type": "stream",
     "text": [
      "/Users/jghiya/Library/Caches/pypoetry/virtualenvs/unoplat-code-confluence-wBVFyKeX-py3.12/lib/python3.12/site-packages/tqdm/auto.py:21: TqdmWarning: IProgress not found. Please update jupyter and ipywidgets. See https://ipywidgets.readthedocs.io/en/stable/user_install.html\n",
      "  from .autonotebook import tqdm as notebook_tqdm\n"
     ]
    }
   ],
   "source": [
    "import dspy\n",
    "from data_models.dspy.dspy_o_function_summary import DspyFunctionSummary\n",
    "from data_models.dspy.dspy_unoplat_fs_function_subset import DspyUnoplatFunctionSubset\n",
    "from data_models.dspy.dspy_unoplat_fs_node_subset import DspyUnoplatNodeSubset"
   ]
  },
  {
   "cell_type": "code",
   "execution_count": 2,
   "metadata": {},
   "outputs": [],
   "source": [
    "ollama_codestral = dspy.OllamaLocal(model='codestral:22b-v0.1-q8_0')\n",
    "dspy.configure(lm=ollama_codestral)"
   ]
  },
  {
   "cell_type": "code",
   "execution_count": 3,
   "metadata": {},
   "outputs": [],
   "source": [
    "class CodeConfluenceFunctionSignature(dspy.Signature):\n",
    "    \"\"\"This signature contains class metadata and function metadata with function content and returns descriptive function summary. Only respond in this json format\"\"\"\n",
    "    dspy_class_subset: DspyUnoplatNodeSubset = dspy.InputField(desc=\"This will contain class metadata\")\n",
    "    dspy_function_subset: DspyUnoplatFunctionSubset = dspy.InputField(desc=\"This will contain function metadata with function content\")\n",
    "    dspy_function_summary: DspyFunctionSummary = dspy.OutputField(desc=\"This will contain function summary\")\n",
    "\n"
   ]
  },
  {
   "cell_type": "code",
   "execution_count": 4,
   "metadata": {},
   "outputs": [],
   "source": [
    "class CodeConfluenceFunctionSummaryOptimiserSignature(dspy.Signature):\n",
    "    \"\"\"This signature contains function summary and returns optimised and accurate function summary. Only respond in this json format\"\"\"\n",
    "    dspy_function_input_summary: DspyFunctionSummary = dspy.InputField(desc=\"This will contain function summary\")\n",
    "    dspy_function_output_summary: DspyFunctionSummary = dspy.OutputField(desc=\"This will contain optimised function summary\")\n"
   ]
  },
  {
   "cell_type": "code",
   "execution_count": 5,
   "metadata": {},
   "outputs": [],
   "source": [
    "class CodeConfluenceFunctionModule(dspy.Module):\n",
    "    def __init__(self):\n",
    "        super().__init__()\n",
    "        self.generate_function_summary = dspy.Predict(CodeConfluenceFunctionSignature)\n",
    "        self.optimise_function_summary = dspy.Predict(CodeConfluenceFunctionSummaryOptimiserSignature)\n",
    "\n",
    "    def forward(self, function_metadata, class_metadata):\n",
    "        function_summary = self.generate_function_summary( dspy_class_subset = class_metadata, dspy_function_subset= function_metadata)\n",
    "        optimised_function_summary = self.optimise_function_summary(function_summary)\n",
    "        print(optimised_function_summary.dspy_function_output_summary)\n",
    "        return optimised_function_summary"
   ]
  },
  {
   "cell_type": "code",
   "execution_count": 6,
   "metadata": {},
   "outputs": [],
   "source": [
    "dspy_pipeline = CodeConfluenceFunctionModule()"
   ]
  },
  {
   "cell_type": "code",
   "execution_count": 7,
   "metadata": {},
   "outputs": [
    {
     "name": "stdout",
     "output_type": "stream",
     "text": [
      "node name Order\n",
      "node_name='Order' multiple_extend=None fields=[ClassFieldModel(type_type='OrderPrimaryKey', type_key='key', annotations=[Annotation(name='PrimaryKey', key_values=[], position=Position(start_line=13, start_line_position=4, stop_line=13, stop_line_position=5))]), ClassFieldModel(type_type='Integer', type_key='productQuantity', annotations=[Annotation(name='Column', key_values=[ChapiUnoplatAnnotationKeyVal(key='\"product_quantity\"', value='\"product_quantity\"')], position=Position(start_line=16, start_line_position=4, stop_line=16, stop_line_position=30)), Annotation(name='CassandraType', key_values=[ChapiUnoplatAnnotationKeyVal(key='type', value='CassandraType.Name.INT')], position=Position(start_line=17, start_line_position=4, stop_line=17, stop_line_position=48))]), ClassFieldModel(type_type='String', type_key='productName', annotations=[Annotation(name='Column', key_values=[ChapiUnoplatAnnotationKeyVal(key='\"product_name\"', value='\"product_name\"')], position=Position(start_line=20, start_line_position=4, stop_line=20, stop_line_position=26)), Annotation(name='CassandraType', key_values=[ChapiUnoplatAnnotationKeyVal(key='type', value='CassandraType.Name.TEXT')], position=Position(start_line=21, start_line_position=4, stop_line=21, stop_line_position=49))]), ClassFieldModel(type_type='Float', type_key='productPrice', annotations=[Annotation(name='CassandraType', key_values=[ChapiUnoplatAnnotationKeyVal(key='type', value='CassandraType.Name.DECIMAL')], position=Position(start_line=24, start_line_position=4, stop_line=24, stop_line_position=52)), Annotation(name='Column', key_values=[ChapiUnoplatAnnotationKeyVal(key='\"product_price\"', value='\"product_price\"')], position=Position(start_line=25, start_line_position=4, stop_line=25, stop_line_position=27))]), ClassFieldModel(type_type='Instant', type_key='addedToOrderTimestamp', annotations=[Annotation(name='CassandraType', key_values=[ChapiUnoplatAnnotationKeyVal(key='type', value='CassandraType.Name.TIMESTAMP')], position=Position(start_line=28, start_line_position=4, stop_line=28, stop_line_position=54)), Annotation(name='Column', key_values=[ChapiUnoplatAnnotationKeyVal(key='\"added_to_order_at\"', value='\"added_to_order_at\"')], position=Position(start_line=29, start_line_position=4, stop_line=29, stop_line_position=31))])] extend=None imports=[Import(source='lombok.Data', usage_name=[]), Import(source='org.springframework.data.cassandra.core.mapping', usage_name=[]), Import(source='java.io.Serializable', usage_name=[]), Import(source='java.time.Instant', usage_name=[])] annotations=[DspyUnoplatAnnotationSubset(name='Table', key_values=[ChapiUnoplatAnnotationKeyVal(key='value', value='\"starter_orders\"')]), DspyUnoplatAnnotationSubset(name='Data', key_values=[])]\n",
      "node name OrderRepository\n",
      "node_name='OrderRepository' multiple_extend=None fields=[] extend='CassandraRepository<Order,OrderPrimaryKey>' imports=[Import(source='org.springframework.data.cassandra.repository.CassandraRepository', usage_name=[]), Import(source='org.springframework.data.rest.core.annotation.RestResource', usage_name=[]), Import(source='org.springframework.stereotype.Repository', usage_name=[]), Import(source='java.util.List', usage_name=[]), Import(source='java.util.UUID', usage_name=[])] annotations=[DspyUnoplatAnnotationSubset(name='Repository', key_values=[]), DspyUnoplatAnnotationSubset(name='RestResource', key_values=[ChapiUnoplatAnnotationKeyVal(key='exported', value='false')])]\n",
      "name='deleteByKeyOrderId' return_type='void' function_calls=[] annotations=[] position=Position(start_line=16, start_line_position=2, stop_line=16, stop_line_position=39) local_variables=[] body_hash=None content='void deleteByKeyOrderId(UUID orderId);'\n"
     ]
    },
    {
     "name": "stderr",
     "output_type": "stream",
     "text": [
      "/Users/jghiya/Library/Caches/pypoetry/virtualenvs/unoplat-code-confluence-wBVFyKeX-py3.12/lib/python3.12/site-packages/dsp/templates/template_v2.py:35: SyntaxWarning: invalid escape sequence '\\s'\n",
      "  match = re.search(\"(.*)(\\s){(.*)}\\s(.*\\${.*})\", template)\n",
      "/Users/jghiya/Library/Caches/pypoetry/virtualenvs/unoplat-code-confluence-wBVFyKeX-py3.12/lib/python3.12/site-packages/dsp/templates/template_v2.py:42: SyntaxWarning: invalid escape sequence '\\s'\n",
      "  match = re.search(\"(.*)(\\s){(.*)}\", template)\n"
     ]
    },
    {
     "ename": "AssertionError",
     "evalue": "Need format_handler for dspy_class_subset of type <class 'data_models.dspy.dspy_unoplat_fs_node_subset.DspyUnoplatNodeSubset'>",
     "output_type": "error",
     "traceback": [
      "\u001b[0;31m---------------------------------------------------------------------------\u001b[0m",
      "\u001b[0;31mAssertionError\u001b[0m                            Traceback (most recent call last)",
      "Cell \u001b[0;32mIn[7], line 46\u001b[0m\n\u001b[1;32m     37\u001b[0m \u001b[38;5;28mprint\u001b[39m(func)\n\u001b[1;32m     38\u001b[0m function_subset \u001b[38;5;241m=\u001b[39m DspyUnoplatFunctionSubset(\n\u001b[1;32m     39\u001b[0m     Name\u001b[38;5;241m=\u001b[39mfunc\u001b[38;5;241m.\u001b[39mname,\n\u001b[1;32m     40\u001b[0m     ReturnType\u001b[38;5;241m=\u001b[39mfunc\u001b[38;5;241m.\u001b[39mreturn_type,\n\u001b[0;32m   (...)\u001b[0m\n\u001b[1;32m     44\u001b[0m     FunctionCalls\u001b[38;5;241m=\u001b[39m[DspyUnoplatFunctionCallSubset(NodeName\u001b[38;5;241m=\u001b[39mcall\u001b[38;5;241m.\u001b[39mnode_name, FunctionName\u001b[38;5;241m=\u001b[39mcall\u001b[38;5;241m.\u001b[39mfunction_name, Parameters\u001b[38;5;241m=\u001b[39mcall\u001b[38;5;241m.\u001b[39mparameters) \u001b[38;5;28;01mfor\u001b[39;00m call \u001b[38;5;129;01min\u001b[39;00m func\u001b[38;5;241m.\u001b[39mfunction_calls]\n\u001b[1;32m     45\u001b[0m )\n\u001b[0;32m---> 46\u001b[0m pred \u001b[38;5;241m=\u001b[39m \u001b[43mdspy_pipeline\u001b[49m\u001b[43m(\u001b[49m\u001b[43mclass_metadata\u001b[49m\u001b[38;5;241;43m=\u001b[39;49m\u001b[43mnode_subset\u001b[49m\u001b[43m,\u001b[49m\u001b[43mfunction_metadata\u001b[49m\u001b[38;5;241;43m=\u001b[39;49m\u001b[43mfunction_subset\u001b[49m\u001b[43m)\u001b[49m\n\u001b[1;32m     47\u001b[0m \u001b[38;5;28mprint\u001b[39m(pred\u001b[38;5;241m.\u001b[39mdspy_function_output_summary)\n\u001b[1;32m     48\u001b[0m exit()\n",
      "File \u001b[0;32m~/Library/Caches/pypoetry/virtualenvs/unoplat-code-confluence-wBVFyKeX-py3.12/lib/python3.12/site-packages/dspy/primitives/program.py:26\u001b[0m, in \u001b[0;36mModule.__call__\u001b[0;34m(self, *args, **kwargs)\u001b[0m\n\u001b[1;32m     25\u001b[0m \u001b[38;5;28;01mdef\u001b[39;00m \u001b[38;5;21m__call__\u001b[39m(\u001b[38;5;28mself\u001b[39m, \u001b[38;5;241m*\u001b[39margs, \u001b[38;5;241m*\u001b[39m\u001b[38;5;241m*\u001b[39mkwargs):\n\u001b[0;32m---> 26\u001b[0m     \u001b[38;5;28;01mreturn\u001b[39;00m \u001b[38;5;28;43mself\u001b[39;49m\u001b[38;5;241;43m.\u001b[39;49m\u001b[43mforward\u001b[49m\u001b[43m(\u001b[49m\u001b[38;5;241;43m*\u001b[39;49m\u001b[43margs\u001b[49m\u001b[43m,\u001b[49m\u001b[43m \u001b[49m\u001b[38;5;241;43m*\u001b[39;49m\u001b[38;5;241;43m*\u001b[39;49m\u001b[43mkwargs\u001b[49m\u001b[43m)\u001b[49m\n",
      "Cell \u001b[0;32mIn[5], line 8\u001b[0m, in \u001b[0;36mCodeConfluenceFunctionModule.forward\u001b[0;34m(self, function_metadata, class_metadata)\u001b[0m\n\u001b[1;32m      7\u001b[0m \u001b[38;5;28;01mdef\u001b[39;00m \u001b[38;5;21mforward\u001b[39m(\u001b[38;5;28mself\u001b[39m, function_metadata, class_metadata):\n\u001b[0;32m----> 8\u001b[0m     function_summary \u001b[38;5;241m=\u001b[39m \u001b[38;5;28;43mself\u001b[39;49m\u001b[38;5;241;43m.\u001b[39;49m\u001b[43mgenerate_function_summary\u001b[49m\u001b[43m(\u001b[49m\u001b[43m \u001b[49m\u001b[43mdspy_class_subset\u001b[49m\u001b[43m \u001b[49m\u001b[38;5;241;43m=\u001b[39;49m\u001b[43m \u001b[49m\u001b[43mclass_metadata\u001b[49m\u001b[43m,\u001b[49m\u001b[43m \u001b[49m\u001b[43mdspy_function_subset\u001b[49m\u001b[38;5;241;43m=\u001b[39;49m\u001b[43m \u001b[49m\u001b[43mfunction_metadata\u001b[49m\u001b[43m)\u001b[49m\n\u001b[1;32m      9\u001b[0m     optimised_function_summary \u001b[38;5;241m=\u001b[39m \u001b[38;5;28mself\u001b[39m\u001b[38;5;241m.\u001b[39moptimise_function_summary(function_summary)\n\u001b[1;32m     10\u001b[0m     \u001b[38;5;28mprint\u001b[39m(optimised_function_summary\u001b[38;5;241m.\u001b[39mdspy_function_output_summary)\n",
      "File \u001b[0;32m~/Library/Caches/pypoetry/virtualenvs/unoplat-code-confluence-wBVFyKeX-py3.12/lib/python3.12/site-packages/dspy/predict/predict.py:61\u001b[0m, in \u001b[0;36mPredict.__call__\u001b[0;34m(self, **kwargs)\u001b[0m\n\u001b[1;32m     60\u001b[0m \u001b[38;5;28;01mdef\u001b[39;00m \u001b[38;5;21m__call__\u001b[39m(\u001b[38;5;28mself\u001b[39m, \u001b[38;5;241m*\u001b[39m\u001b[38;5;241m*\u001b[39mkwargs):\n\u001b[0;32m---> 61\u001b[0m     \u001b[38;5;28;01mreturn\u001b[39;00m \u001b[38;5;28;43mself\u001b[39;49m\u001b[38;5;241;43m.\u001b[39;49m\u001b[43mforward\u001b[49m\u001b[43m(\u001b[49m\u001b[38;5;241;43m*\u001b[39;49m\u001b[38;5;241;43m*\u001b[39;49m\u001b[43mkwargs\u001b[49m\u001b[43m)\u001b[49m\n",
      "File \u001b[0;32m~/Library/Caches/pypoetry/virtualenvs/unoplat-code-confluence-wBVFyKeX-py3.12/lib/python3.12/site-packages/dspy/predict/predict.py:103\u001b[0m, in \u001b[0;36mPredict.forward\u001b[0;34m(self, **kwargs)\u001b[0m\n\u001b[1;32m    100\u001b[0m template \u001b[38;5;241m=\u001b[39m signature_to_template(signature)\n\u001b[1;32m    102\u001b[0m \u001b[38;5;28;01mif\u001b[39;00m \u001b[38;5;28mself\u001b[39m\u001b[38;5;241m.\u001b[39mlm \u001b[38;5;129;01mis\u001b[39;00m \u001b[38;5;28;01mNone\u001b[39;00m:\n\u001b[0;32m--> 103\u001b[0m     x, C \u001b[38;5;241m=\u001b[39m \u001b[43mdsp\u001b[49m\u001b[38;5;241;43m.\u001b[39;49m\u001b[43mgenerate\u001b[49m\u001b[43m(\u001b[49m\u001b[43mtemplate\u001b[49m\u001b[43m,\u001b[49m\u001b[43m \u001b[49m\u001b[38;5;241;43m*\u001b[39;49m\u001b[38;5;241;43m*\u001b[39;49m\u001b[43mconfig\u001b[49m\u001b[43m)\u001b[49m\u001b[43m(\u001b[49m\u001b[43mx\u001b[49m\u001b[43m,\u001b[49m\u001b[43m \u001b[49m\u001b[43mstage\u001b[49m\u001b[38;5;241;43m=\u001b[39;49m\u001b[38;5;28;43mself\u001b[39;49m\u001b[38;5;241;43m.\u001b[39;49m\u001b[43mstage\u001b[49m\u001b[43m)\u001b[49m\n\u001b[1;32m    104\u001b[0m \u001b[38;5;28;01melse\u001b[39;00m:\n\u001b[1;32m    105\u001b[0m     \u001b[38;5;66;03m# Note: query_only=True means the instructions and examples are not included.\u001b[39;00m\n\u001b[1;32m    106\u001b[0m     \u001b[38;5;66;03m# I'm not really sure why we'd want to do that, but it's there.\u001b[39;00m\n\u001b[1;32m    107\u001b[0m     \u001b[38;5;28;01mwith\u001b[39;00m dsp\u001b[38;5;241m.\u001b[39msettings\u001b[38;5;241m.\u001b[39mcontext(lm\u001b[38;5;241m=\u001b[39m\u001b[38;5;28mself\u001b[39m\u001b[38;5;241m.\u001b[39mlm, query_only\u001b[38;5;241m=\u001b[39m\u001b[38;5;28;01mTrue\u001b[39;00m):\n",
      "File \u001b[0;32m~/Library/Caches/pypoetry/virtualenvs/unoplat-code-confluence-wBVFyKeX-py3.12/lib/python3.12/site-packages/dsp/primitives/predict.py:76\u001b[0m, in \u001b[0;36m_generate.<locals>.do_generate\u001b[0;34m(example, stage, max_depth, original_example)\u001b[0m\n\u001b[1;32m     73\u001b[0m example \u001b[38;5;241m=\u001b[39m example\u001b[38;5;241m.\u001b[39mdemos_at(\u001b[38;5;28;01mlambda\u001b[39;00m d: d[stage])\n\u001b[1;32m     75\u001b[0m \u001b[38;5;66;03m# Generate and extract the fields.\u001b[39;00m\n\u001b[0;32m---> 76\u001b[0m prompt \u001b[38;5;241m=\u001b[39m \u001b[43mtemplate\u001b[49m\u001b[43m(\u001b[49m\u001b[43mexample\u001b[49m\u001b[43m)\u001b[49m\n\u001b[1;32m     77\u001b[0m completions: \u001b[38;5;28mlist\u001b[39m[\u001b[38;5;28mdict\u001b[39m[\u001b[38;5;28mstr\u001b[39m, Any]] \u001b[38;5;241m=\u001b[39m generator(prompt, \u001b[38;5;241m*\u001b[39m\u001b[38;5;241m*\u001b[39mkwargs)\n\u001b[1;32m     78\u001b[0m completions: \u001b[38;5;28mlist\u001b[39m[Example] \u001b[38;5;241m=\u001b[39m [template\u001b[38;5;241m.\u001b[39mextract(example, p) \u001b[38;5;28;01mfor\u001b[39;00m p \u001b[38;5;129;01min\u001b[39;00m completions]\n",
      "File \u001b[0;32m~/Library/Caches/pypoetry/virtualenvs/unoplat-code-confluence-wBVFyKeX-py3.12/lib/python3.12/site-packages/dsp/templates/template_v2.py:244\u001b[0m, in \u001b[0;36mTemplateV2.__call__\u001b[0;34m(self, example, show_guidelines)\u001b[0m\n\u001b[1;32m    241\u001b[0m \u001b[38;5;28;01mif\u001b[39;00m long_query:\n\u001b[1;32m    242\u001b[0m     example[\u001b[38;5;124m\"\u001b[39m\u001b[38;5;124maugmented\u001b[39m\u001b[38;5;124m\"\u001b[39m] \u001b[38;5;241m=\u001b[39m \u001b[38;5;28;01mTrue\u001b[39;00m\n\u001b[0;32m--> 244\u001b[0m query \u001b[38;5;241m=\u001b[39m \u001b[38;5;28;43mself\u001b[39;49m\u001b[38;5;241;43m.\u001b[39;49m\u001b[43mquery\u001b[49m\u001b[43m(\u001b[49m\u001b[43mexample\u001b[49m\u001b[43m)\u001b[49m\n\u001b[1;32m    246\u001b[0m \u001b[38;5;66;03m# if it has more lines than fields\u001b[39;00m\n\u001b[1;32m    247\u001b[0m \u001b[38;5;28;01mif\u001b[39;00m \u001b[38;5;28mlen\u001b[39m(query\u001b[38;5;241m.\u001b[39msplit(\u001b[38;5;124m\"\u001b[39m\u001b[38;5;130;01m\\n\u001b[39;00m\u001b[38;5;124m\"\u001b[39m)) \u001b[38;5;241m>\u001b[39m \u001b[38;5;28mlen\u001b[39m(\u001b[38;5;28mself\u001b[39m\u001b[38;5;241m.\u001b[39mfields):\n",
      "File \u001b[0;32m~/Library/Caches/pypoetry/virtualenvs/unoplat-code-confluence-wBVFyKeX-py3.12/lib/python3.12/site-packages/dsp/templates/template_v2.py:105\u001b[0m, in \u001b[0;36mTemplateV2.query\u001b[0;34m(self, example, is_demo)\u001b[0m\n\u001b[1;32m    102\u001b[0m         \u001b[38;5;28;01massert\u001b[39;00m \u001b[38;5;28mtype\u001b[39m(x) \u001b[38;5;241m==\u001b[39m \u001b[38;5;28mstr\u001b[39m, \u001b[38;5;124mf\u001b[39m\u001b[38;5;124m\"\u001b[39m\u001b[38;5;124mNeed format_handler for \u001b[39m\u001b[38;5;132;01m{\u001b[39;00mfield\u001b[38;5;241m.\u001b[39minput_variable\u001b[38;5;132;01m}\u001b[39;00m\u001b[38;5;124m of type \u001b[39m\u001b[38;5;132;01m{\u001b[39;00m\u001b[38;5;28mtype\u001b[39m(x)\u001b[38;5;132;01m}\u001b[39;00m\u001b[38;5;124m\"\u001b[39m\n\u001b[1;32m    103\u001b[0m         \u001b[38;5;28;01mreturn\u001b[39;00m \u001b[38;5;124m\"\u001b[39m\u001b[38;5;124m \u001b[39m\u001b[38;5;124m\"\u001b[39m\u001b[38;5;241m.\u001b[39mjoin(x\u001b[38;5;241m.\u001b[39msplit())\n\u001b[0;32m--> 105\u001b[0m formatted_value \u001b[38;5;241m=\u001b[39m \u001b[43mformat_handler\u001b[49m\u001b[43m(\u001b[49m\u001b[43mexample\u001b[49m\u001b[43m[\u001b[49m\u001b[43mfield\u001b[49m\u001b[38;5;241;43m.\u001b[39;49m\u001b[43minput_variable\u001b[49m\u001b[43m]\u001b[49m\u001b[43m)\u001b[49m\n\u001b[1;32m    106\u001b[0m separator \u001b[38;5;241m=\u001b[39m \u001b[38;5;124m\"\u001b[39m\u001b[38;5;130;01m\\n\u001b[39;00m\u001b[38;5;124m\"\u001b[39m \u001b[38;5;28;01mif\u001b[39;00m field\u001b[38;5;241m.\u001b[39mseparator \u001b[38;5;241m==\u001b[39m \u001b[38;5;124m\"\u001b[39m\u001b[38;5;124m \u001b[39m\u001b[38;5;124m\"\u001b[39m \u001b[38;5;129;01mand\u001b[39;00m \u001b[38;5;124m\"\u001b[39m\u001b[38;5;130;01m\\n\u001b[39;00m\u001b[38;5;124m\"\u001b[39m \u001b[38;5;129;01min\u001b[39;00m formatted_value \u001b[38;5;28;01melse\u001b[39;00m field\u001b[38;5;241m.\u001b[39mseparator\n\u001b[1;32m    108\u001b[0m result\u001b[38;5;241m.\u001b[39mappend(\n\u001b[1;32m    109\u001b[0m     \u001b[38;5;124mf\u001b[39m\u001b[38;5;124m\"\u001b[39m\u001b[38;5;132;01m{\u001b[39;00mfield\u001b[38;5;241m.\u001b[39mname\u001b[38;5;132;01m}\u001b[39;00m\u001b[38;5;132;01m{\u001b[39;00mseparator\u001b[38;5;132;01m}\u001b[39;00m\u001b[38;5;132;01m{\u001b[39;00mformatted_value\u001b[38;5;132;01m}\u001b[39;00m\u001b[38;5;124m\"\u001b[39m,\n\u001b[1;32m    110\u001b[0m )\n",
      "File \u001b[0;32m~/Library/Caches/pypoetry/virtualenvs/unoplat-code-confluence-wBVFyKeX-py3.12/lib/python3.12/site-packages/dsp/templates/template_v2.py:102\u001b[0m, in \u001b[0;36mTemplateV2.query.<locals>.format_handler\u001b[0;34m(x)\u001b[0m\n\u001b[1;32m    101\u001b[0m \u001b[38;5;28;01mdef\u001b[39;00m \u001b[38;5;21mformat_handler\u001b[39m(x):\n\u001b[0;32m--> 102\u001b[0m     \u001b[38;5;28;01massert\u001b[39;00m \u001b[38;5;28mtype\u001b[39m(x) \u001b[38;5;241m==\u001b[39m \u001b[38;5;28mstr\u001b[39m, \u001b[38;5;124mf\u001b[39m\u001b[38;5;124m\"\u001b[39m\u001b[38;5;124mNeed format_handler for \u001b[39m\u001b[38;5;132;01m{\u001b[39;00mfield\u001b[38;5;241m.\u001b[39minput_variable\u001b[38;5;132;01m}\u001b[39;00m\u001b[38;5;124m of type \u001b[39m\u001b[38;5;132;01m{\u001b[39;00m\u001b[38;5;28mtype\u001b[39m(x)\u001b[38;5;132;01m}\u001b[39;00m\u001b[38;5;124m\"\u001b[39m\n\u001b[1;32m    103\u001b[0m     \u001b[38;5;28;01mreturn\u001b[39;00m \u001b[38;5;124m\"\u001b[39m\u001b[38;5;124m \u001b[39m\u001b[38;5;124m\"\u001b[39m\u001b[38;5;241m.\u001b[39mjoin(x\u001b[38;5;241m.\u001b[39msplit())\n",
      "\u001b[0;31mAssertionError\u001b[0m: Need format_handler for dspy_class_subset of type <class 'data_models.dspy.dspy_unoplat_fs_node_subset.DspyUnoplatNodeSubset'>"
     ]
    }
   ],
   "source": [
    "import json\n",
    "from data_models.chapi_unoplat_node import Node\n",
    "from data_models.dspy.dspy_unoplat_fs_annotation_subset import DspyUnoplatAnnotationSubset\n",
    "from data_models.dspy.dspy_unoplat_fs_function_call_subset import DspyUnoplatFunctionCallSubset\n",
    "from data_models.dspy.dspy_unoplat_fs_function_subset import DspyUnoplatFunctionSubset\n",
    "from data_models.dspy.dspy_unoplat_fs_node_subset import DspyUnoplatNodeSubset\n",
    "\n",
    "try:\n",
    "    with open('springstarterjava1_codes.json', 'r') as file:\n",
    "        springstarterjava1_codes = json.load(file)\n",
    "except FileNotFoundError:\n",
    "    print(\"Error: File 'springstarterjava1_codes.json' not found.\")\n",
    "    springstarterjava1_codes = []\n",
    "except json.JSONDecodeError:\n",
    "    print(\"Error: File 'springstarterjava1_codes.json' contains invalid JSON.\")\n",
    "    springstarterjava1_codes = []\n",
    "\n",
    "node_subsets = []\n",
    "\n",
    "function_subsets = []\n",
    "count = 0\n",
    "for item in springstarterjava1_codes:\n",
    "    try:\n",
    "        node = Node(**item)\n",
    "        print(\"node name\",node.node_name)\n",
    "        node_subset = DspyUnoplatNodeSubset(\n",
    "            NodeName=node.node_name,\n",
    "            Imports=node.imports,\n",
    "            Extend=node.extend,\n",
    "            MultipleExtend=node.multiple_extend,\n",
    "            Fields=node.fields,\n",
    "            Annotations=[DspyUnoplatAnnotationSubset(Name=annotation.name,KeyValues=annotation.key_values) for annotation in node.annotations]\n",
    "        )\n",
    "        count = count + 1\n",
    "        print(node_subset)\n",
    "        for func in node.functions:\n",
    "            print(func)\n",
    "            function_subset = DspyUnoplatFunctionSubset(\n",
    "                Name=func.name,\n",
    "                ReturnType=func.return_type,\n",
    "                Annotations=[DspyUnoplatAnnotationSubset(Name=annotation.name,KeyValues=annotation.key_values) for annotation in node.annotations],\n",
    "                LocalVariables=func.local_variables,\n",
    "                Content=func.content,\n",
    "                FunctionCalls=[DspyUnoplatFunctionCallSubset(NodeName=call.node_name, FunctionName=call.function_name, Parameters=call.parameters) for call in func.function_calls]\n",
    "            )\n",
    "            pred = dspy_pipeline(class_metadata=node_subset,function_metadata=function_subset)\n",
    "            print(pred.dspy_function_output_summary)\n",
    "            exit()\n",
    "            \n",
    "        \n",
    "    except AttributeError as e:\n",
    "        print(f\"Error processing node data: {e}\")\n"
   ]
  },
  {
   "cell_type": "code",
   "execution_count": null,
   "metadata": {},
   "outputs": [],
   "source": []
  },
  {
   "cell_type": "code",
   "execution_count": null,
   "metadata": {},
   "outputs": [],
   "source": []
  },
  {
   "cell_type": "code",
   "execution_count": null,
   "metadata": {},
   "outputs": [],
   "source": []
  },
  {
   "cell_type": "code",
   "execution_count": null,
   "metadata": {},
   "outputs": [],
   "source": [
    "node_subsets[0]"
   ]
  },
  {
   "cell_type": "code",
   "execution_count": null,
   "metadata": {},
   "outputs": [],
   "source": [
    "import dspy\n",
    "import os\n",
    "from data_models.chapi_unoplat_function import Function\n",
    "from data_models.chapi_unoplat_function_summary import FunctionSummary\n",
    "from loader import JsonLoader\n",
    "from loader import JsonParser\n",
    "\n",
    "ollama_mistral = dspy.OllamaLocal(model='mistral:7b-instruct-fp16')\n",
    "dspy.configure(lm=ollama_mistral)\n"
   ]
  },
  {
   "cell_type": "code",
   "execution_count": null,
   "metadata": {},
   "outputs": [],
   "source": []
  },
  {
   "cell_type": "code",
   "execution_count": null,
   "metadata": {},
   "outputs": [],
   "source": [
    "class UnoplatFunctionSummary(dspy.Signature):\n",
    "    \"\"\"Generate accurate Summary only based on user metadata about function\"\"\"\n",
    "    \n",
    "    input: Function = dspy.InputField(desc=\"will contain all relevant function metadata\")\n",
    "    output: FunctionSummary = dspy.OutputField(desc=\"summarisation of function\")\n"
   ]
  },
  {
   "cell_type": "code",
   "execution_count": null,
   "metadata": {},
   "outputs": [],
   "source": [
    "from typing import List\n",
    "from data_models.chapi_unoplat_class_summary import ClassSummary\n",
    "from data_models.chapi_unoplat_node import Node\n",
    "\n",
    "\n",
    "class UnoplatClassSummary(dspy.Signature):\n",
    "    \"\"\"Generate accurate summary only based on List of Function summaries and class metadata\"\"\"\n",
    "    input: List[FunctionSummary] = dspy.InputField(desc=\"This contains list of function summaries that needs to be understood in a step by step fashion.\")\n",
    "    context: Node = dspy.InputField(desc=\"This will contain class metadata.\" )\n",
    "    output: ClassSummary = dspy.OutputField(desc=\"This should contain class summary based on user shared metadata.\")"
   ]
  },
  {
   "cell_type": "code",
   "execution_count": null,
   "metadata": {},
   "outputs": [],
   "source": [
    "from typing import List\n",
    "\n",
    "class UnoplatModuleFunctionSummary(dspy.Module):\n",
    "    \"\"\"Generate summary for all functions of a class\"\"\"\n",
    "    def __init__(self):\n",
    "        super().__init__()\n",
    "        self.generate_function_summary = dspy.TypedChainOfThought(UnoplatFunctionSummary)\n",
    "        \n",
    "\n",
    "    def forward(self, list_function = None) -> str:\n",
    "        function_summaries_context = []\n",
    "        \n",
    "        for item in list_function:\n",
    "            function_summaries_context.append(self.generate_function_summary(item))\n",
    "\n",
    "        \n",
    "        return function_summaries_context    \n",
    "\n",
    "\n",
    "            \n",
    "        "
   ]
  },
  {
   "cell_type": "code",
   "execution_count": null,
   "metadata": {},
   "outputs": [],
   "source": [
    "from dspy.teleprompt import BootstrapFewShot\n",
    "# Set up the teleprompter\n",
    "teleprompter = BootstrapFewShot()\n",
    "\n",
    "# Compile the program without a training dataset\n",
    "compiled_summary = teleprompter.compile(UnoplatModuleClassSummary(),trainset=None)\n",
    "\n",
    "#cot_predictor = dspy.TypedChainOfThought(UnoplatFunctionSummary)"
   ]
  },
  {
   "cell_type": "code",
   "execution_count": null,
   "metadata": {},
   "outputs": [],
   "source": [
    "iload_json = JsonLoader()\n",
    "\n",
    "iparse_json = JsonParser()\n",
    "\n",
    "\n",
    "meadata_classes = iload_json.load_json_from_file(\"springstarterjava1_codes.json\")\n",
    "\n",
    "package_dict = iparse_json.parse_json_to_nodes(meadata_classes,None)\n",
    "\n",
    "print(package_dict.keys)\n",
    "\n",
    "function: Function = package_dict['com.datastax.examples.order'][2].functions[0]\n",
    "print(function)\n",
    "\n",
    "prediction = cot_predictor(input=function,options={\"format\": \"json\"})\n",
    "\n",
    "ollama_mistral.inspect_history(n=1)"
   ]
  },
  {
   "cell_type": "code",
   "execution_count": null,
   "metadata": {},
   "outputs": [],
   "source": [
    "print(prediction)"
   ]
  },
  {
   "cell_type": "code",
   "execution_count": null,
   "metadata": {},
   "outputs": [],
   "source": []
  }
 ],
 "metadata": {
  "kernelspec": {
   "display_name": ".venv",
   "language": "python",
   "name": "python3"
  },
  "language_info": {
   "codemirror_mode": {
    "name": "ipython",
    "version": 3
   },
   "file_extension": ".py",
   "mimetype": "text/x-python",
   "name": "python",
   "nbconvert_exporter": "python",
   "pygments_lexer": "ipython3",
   "version": "3.12.3"
  }
 },
 "nbformat": 4,
 "nbformat_minor": 2
}
