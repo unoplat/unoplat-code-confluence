{
 "cells": [
  {
   "cell_type": "code",
   "execution_count": 1,
   "metadata": {},
   "outputs": [
    {
     "name": "stderr",
     "output_type": "stream",
     "text": [
      "/Users/jayghiya/Documents/unoplat/unoplat-codebase-understanding/unoplat-code-confluence/.venv/lib/python3.12/site-packages/tqdm/auto.py:21: TqdmWarning: IProgress not found. Please update jupyter and ipywidgets. See https://ipywidgets.readthedocs.io/en/stable/user_install.html\n",
      "  from .autonotebook import tqdm as notebook_tqdm\n",
      "\u001b[32m2024-06-11 14:29:40.940\u001b[0m | \u001b[1mINFO    \u001b[0m | \u001b[36mloader.json_loader\u001b[0m:\u001b[36mload_json_from_file\u001b[0m:\u001b[36m28\u001b[0m - \u001b[1mJSON data successfully loaded from springstarterjava1_codes.json\u001b[0m\n"
     ]
    },
    {
     "name": "stdout",
     "output_type": "stream",
     "text": [
      "<built-in method keys of dict object at 0x165201300>\n",
      "name='root' return_type='ModelAndView' function_calls=[] annotations=[Annotation(name='RequestMapping', position=Position(start_line=17, start_line_position=4, stop_line=17, stop_line_position=59))] position=Position(start_line=18, start_line_position=11, stop_line=20, stop_line_position=4) local_variables=[FieldModel(type_type='ModelAndView', type_value='return', type_key=None)] body_hash=763749358 content='ModelAndView root() {        return new ModelAndView(\"redirect:/swagger-ui/\");    '\n"
     ]
    }
   ],
   "source": [
    "import dspy\n",
    "import os\n",
    "from data_models.chapi_unoplat_function import Function\n",
    "from data_models.chapi_unoplat_function_summary import FunctionSummary\n",
    "from loader import JsonLoader\n",
    "from loader import JsonParser\n",
    "\n",
    "ollama_mistral = dspy.OllamaLocal(model='mistral:7b-instruct-fp16')\n",
    "dspy.configure(lm=ollama_mistral)\n",
    "\n",
    "ollama_mistral(\"We are going to build class summary based on step by step approach. First we will build function by function summary then based on that we will build class level summary. For this user will be sharing relevant metadata in json for each function first and then class.\")\n",
    "\n",
    "\n",
    "\n",
    "class UnoplatFunctionSummary(dspy.Signature):\n",
    "    \"\"\"Generate Summary in json based on FunctionSummary\"\"\"\n",
    "    \n",
    "    input: Function = dspy.InputField(desc=\"will contain all relevant function metadata\")\n",
    "    output: FunctionSummary = dspy.OutputField(desc=\"summarisation of function\")\n",
    "\n",
    "cot_predictor = dspy.TypedChainOfThought(UnoplatFunctionSummary)\n",
    "\n",
    "# read the json file springstaterjava1_codes into pydantic\n",
    "\n",
    "\n",
    "iload_json = JsonLoader()\n",
    "\n",
    "iparse_json = JsonParser()\n",
    "\n",
    "\n",
    "meadata_classes = iload_json.load_json_from_file(\"springstarterjava1_codes.json\")\n",
    "\n",
    "package_dict = iparse_json.parse_json_to_nodes(meadata_classes,None)\n",
    "\n",
    "print(package_dict.keys)\n",
    "\n",
    "\n",
    "function: Function = package_dict['com.datastax.examples.order'][2].functions[0]\n",
    "print(function)\n",
    "\n",
    "prediction = cot_predictor(input=function,options={\"format\": \"json\"})\n",
    "\n",
    "ollama_mistral.inspect_history(n=1)"
   ]
  },
  {
   "cell_type": "code",
   "execution_count": null,
   "metadata": {},
   "outputs": [],
   "source": []
  }
 ],
 "metadata": {
  "kernelspec": {
   "display_name": ".venv",
   "language": "python",
   "name": "python3"
  },
  "language_info": {
   "codemirror_mode": {
    "name": "ipython",
    "version": 3
   },
   "file_extension": ".py",
   "mimetype": "text/x-python",
   "name": "python",
   "nbconvert_exporter": "python",
   "pygments_lexer": "ipython3",
   "version": "3.12.3"
  }
 },
 "nbformat": 4,
 "nbformat_minor": 2
}
